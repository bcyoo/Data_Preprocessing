{
 "cells": [
  {
   "cell_type": "code",
   "execution_count": 2,
   "metadata": {
    "ExecuteTime": {
     "end_time": "2021-11-19T05:02:20.570796Z",
     "start_time": "2021-11-19T05:02:20.553853Z"
    },
    "id": "Ciu12CJ9CV8Z"
   },
   "outputs": [],
   "source": [
    "import re  # regular expression 정규표현식 라이브러리"
   ]
  },
  {
   "cell_type": "code",
   "execution_count": 22,
   "metadata": {
    "ExecuteTime": {
     "end_time": "2021-11-19T05:05:37.232466Z",
     "start_time": "2021-11-19T05:05:37.228476Z"
    },
    "id": "WOH0ACiJCeDB"
   },
   "outputs": [],
   "source": [
    "text = 'abcaabbccaaabbbccc'"
   ]
  },
  {
   "cell_type": "markdown",
   "metadata": {
    "id": "tRnZ1H2o8YrB"
   },
   "source": [
    "### 어떤 문자 한개 : ."
   ]
  },
  {
   "cell_type": "code",
   "execution_count": 4,
   "metadata": {
    "ExecuteTime": {
     "end_time": "2021-11-19T05:02:22.012380Z",
     "start_time": "2021-11-19T05:02:22.007472Z"
    },
    "colab": {
     "base_uri": "https://localhost:8080/"
    },
    "id": "Lg8Lxji2Sov8",
    "outputId": "847b639e-af27-4ad7-aa32-827f7052585e"
   },
   "outputs": [
    {
     "name": "stdout",
     "output_type": "stream",
     "text": [
      "['a', 'b', 'c', 'a', 'a', 'b', 'b', 'c', 'c', 'a', 'a', 'a', 'b', 'b', 'b', 'c', 'c', 'c']\n"
     ]
    }
   ],
   "source": [
    "print(re.findall('.', text))\n",
    "\n",
    "## 어떤 문자 1개씩을 출력"
   ]
  },
  {
   "cell_type": "code",
   "execution_count": 5,
   "metadata": {
    "ExecuteTime": {
     "end_time": "2021-11-19T05:02:36.221808Z",
     "start_time": "2021-11-19T05:02:36.211847Z"
    },
    "colab": {
     "base_uri": "https://localhost:8080/"
    },
    "id": "0C9N76bISl6f",
    "outputId": "73c586c3-d5cb-4237-afc3-2cebb66c52c6"
   },
   "outputs": [
    {
     "data": {
      "text/plain": [
       "['ab', 'aa', 'aa', 'ab']"
      ]
     },
     "execution_count": 5,
     "metadata": {},
     "output_type": "execute_result"
    }
   ],
   "source": [
    "re.findall('a.', text)\n",
    "\n",
    "## >ab  ca  >ab  bcc  >aa  >ab  bbccc\n",
    "## a를 포함한 것을 출력"
   ]
  },
  {
   "cell_type": "markdown",
   "metadata": {
    "id": "UkHvLXJB8fYf"
   },
   "source": [
    "#### 0개 또는 1개 : ?"
   ]
  },
  {
   "cell_type": "code",
   "execution_count": 23,
   "metadata": {
    "ExecuteTime": {
     "end_time": "2021-11-19T05:05:45.212149Z",
     "start_time": "2021-11-19T05:05:45.192219Z"
    },
    "colab": {
     "base_uri": "https://localhost:8080/"
    },
    "id": "MLn5duEGSj0W",
    "outputId": "26b1e350-0cde-485c-b188-f1af07bcf4ec"
   },
   "outputs": [
    {
     "name": "stdout",
     "output_type": "stream",
     "text": [
      "['a', '', '', 'a', 'a', '', '', '', '', 'a', 'a', 'a', '', '', '', '', '', '', '']\n"
     ]
    }
   ],
   "source": [
    "print(re.findall('a?', text)) # a? = '', a\n",
    "\n",
    "## a?는 a가 있거나 없거나를 1개씩 출력"
   ]
  },
  {
   "cell_type": "markdown",
   "metadata": {
    "id": "2G4Pv4NA8lAW"
   },
   "source": [
    "### 0회 이상 : *\n"
   ]
  },
  {
   "cell_type": "code",
   "execution_count": 7,
   "metadata": {
    "ExecuteTime": {
     "end_time": "2021-11-19T05:02:54.681334Z",
     "start_time": "2021-11-19T05:02:54.669339Z"
    },
    "colab": {
     "base_uri": "https://localhost:8080/"
    },
    "id": "qebdZyGmScHn",
    "outputId": "29f55214-9209-420c-f44c-78221a106129"
   },
   "outputs": [
    {
     "data": {
      "text/plain": [
       "['a', '', '', 'aa', '', '', '', '', 'aaa', '', '', '', '', '', '', '']"
      ]
     },
     "execution_count": 7,
     "metadata": {},
     "output_type": "execute_result"
    }
   ],
   "source": [
    "re.findall('a*', text) # a* = '', a, aa, aaa\n",
    "\n",
    "## a가 0회 이상인 경우 출력"
   ]
  },
  {
   "cell_type": "markdown",
   "metadata": {
    "id": "H5cE5bth8pHo"
   },
   "source": [
    "### 1회 이상 : +"
   ]
  },
  {
   "cell_type": "code",
   "execution_count": 8,
   "metadata": {
    "ExecuteTime": {
     "end_time": "2021-11-19T05:02:55.007866Z",
     "start_time": "2021-11-19T05:02:54.991005Z"
    },
    "colab": {
     "base_uri": "https://localhost:8080/"
    },
    "id": "2RBvoOSASLbr",
    "outputId": "ec3ecf06-40ce-4382-81ae-fc186c9e2fc0"
   },
   "outputs": [
    {
     "data": {
      "text/plain": [
       "['a', 'aa', 'aaa']"
      ]
     },
     "execution_count": 8,
     "metadata": {},
     "output_type": "execute_result"
    }
   ],
   "source": [
    "re.findall('a+', text) # re.findall(<단어:정규표현식>, <문서>) / re.findall(<대상:정규표현식>, <위치>) \n",
    "\n",
    "## a가 1회 이상 등장하는 경우만 출력"
   ]
  },
  {
   "cell_type": "code",
   "execution_count": 24,
   "metadata": {
    "ExecuteTime": {
     "end_time": "2021-11-19T05:08:27.486242Z",
     "start_time": "2021-11-19T05:08:27.473431Z"
    },
    "id": "7qXmwgFfDpOR"
   },
   "outputs": [],
   "source": [
    "doc = '''Ardino 23 010-1234-5678 onds@ardino.com\n",
    "        Tom 21 016-345-6789 tom@ardino.com\n",
    "        Jenny 25 011-123-5346 jny@ardino.com'''"
   ]
  },
  {
   "cell_type": "markdown",
   "metadata": {
    "id": "HWGUuwKh8s1X"
   },
   "source": [
    "### 내가 원하는 것들 중 한개 : []"
   ]
  },
  {
   "cell_type": "markdown",
   "metadata": {
    "id": "AciBfNtL81n9"
   },
   "source": [
    "### 내가 지정한 것들을 제외한 것들 중 한개 : [^]"
   ]
  },
  {
   "cell_type": "markdown",
   "metadata": {
    "id": "MaNRMY3Y87q3"
   },
   "source": [
    "### 묶음, 묶은 것만 지칭 : ()"
   ]
  },
  {
   "cell_type": "markdown",
   "metadata": {
    "id": "RGXM41cl9GPA"
   },
   "source": [
    "### 회피용법"
   ]
  },
  {
   "cell_type": "code",
   "execution_count": 43,
   "metadata": {
    "ExecuteTime": {
     "end_time": "2021-11-19T05:22:27.310717Z",
     "start_time": "2021-11-19T05:22:27.302721Z"
    }
   },
   "outputs": [],
   "source": [
    "doc1 = 'TomCru'"
   ]
  },
  {
   "cell_type": "code",
   "execution_count": 47,
   "metadata": {
    "ExecuteTime": {
     "end_time": "2021-11-19T05:23:12.966074Z",
     "start_time": "2021-11-19T05:23:12.956109Z"
    }
   },
   "outputs": [
    {
     "data": {
      "text/plain": [
       "['TomCru']"
      ]
     },
     "execution_count": 47,
     "metadata": {},
     "output_type": "execute_result"
    }
   ],
   "source": [
    "# re.findall('[A-Za-z]+', doc1)\n",
    "re.findall('[A-Z][A-Za-z]+', doc1)"
   ]
  },
  {
   "cell_type": "code",
   "execution_count": 38,
   "metadata": {
    "ExecuteTime": {
     "end_time": "2021-11-19T05:17:17.489198Z",
     "start_time": "2021-11-19T05:17:17.486142Z"
    }
   },
   "outputs": [
    {
     "data": {
      "text/plain": [
       "['Ardino']"
      ]
     },
     "execution_count": 38,
     "metadata": {},
     "output_type": "execute_result"
    }
   ],
   "source": [
    "re.findall('A[a-z]+', doc)  ## A로 시작하고 뒤에 소문자 열[a-z]+로 끝나는 것을 출력\n",
    "\n",
    "# re.findall('A[a-z]*', doc) ## +대신 *한 경우 A만 혼자 있는 경우도 찾게됨."
   ]
  },
  {
   "cell_type": "code",
   "execution_count": 34,
   "metadata": {
    "ExecuteTime": {
     "end_time": "2021-11-19T05:16:44.529809Z",
     "start_time": "2021-11-19T05:16:44.520909Z"
    }
   },
   "outputs": [
    {
     "data": {
      "text/plain": [
       "['Tom']"
      ]
     },
     "execution_count": 34,
     "metadata": {},
     "output_type": "execute_result"
    }
   ],
   "source": [
    "re.findall('T[a-z]+', doc)"
   ]
  },
  {
   "cell_type": "code",
   "execution_count": 35,
   "metadata": {
    "ExecuteTime": {
     "end_time": "2021-11-19T05:16:54.010007Z",
     "start_time": "2021-11-19T05:16:53.991081Z"
    }
   },
   "outputs": [
    {
     "data": {
      "text/plain": [
       "['Jenny']"
      ]
     },
     "execution_count": 35,
     "metadata": {},
     "output_type": "execute_result"
    }
   ],
   "source": [
    "re.findall('J[a-z]+', doc)"
   ]
  },
  {
   "cell_type": "code",
   "execution_count": 37,
   "metadata": {
    "ExecuteTime": {
     "end_time": "2021-11-19T05:17:07.444792Z",
     "start_time": "2021-11-19T05:17:07.427168Z"
    }
   },
   "outputs": [
    {
     "data": {
      "text/plain": [
       "['Ardino', 'Tom', 'Jenny']"
      ]
     },
     "execution_count": 37,
     "metadata": {},
     "output_type": "execute_result"
    }
   ],
   "source": [
    "re.findall('[A-Z][a-z]+', doc)"
   ]
  },
  {
   "cell_type": "code",
   "execution_count": 25,
   "metadata": {
    "ExecuteTime": {
     "end_time": "2021-11-19T05:13:09.634564Z",
     "start_time": "2021-11-19T05:13:09.617570Z"
    },
    "colab": {
     "base_uri": "https://localhost:8080/"
    },
    "id": "sUiWEQvXEBAd",
    "outputId": "26ccacf1-8865-47d8-c218-3312e8874577"
   },
   "outputs": [
    {
     "data": {
      "text/plain": [
       "['Ardino', 'Tom', 'Jenny']"
      ]
     },
     "execution_count": 25,
     "metadata": {},
     "output_type": "execute_result"
    }
   ],
   "source": [
    "# 이름들만 뽑기\n",
    "# 알파벳대문자로 시작하고, 소문자들로 이어지는 \n",
    "# 알파벳대문자 하나, 소문자 여러개\n",
    "re.findall('[A-Z][a-z]+', doc)"
   ]
  },
  {
   "cell_type": "code",
   "execution_count": 11,
   "metadata": {
    "ExecuteTime": {
     "end_time": "2021-11-19T05:02:56.677532Z",
     "start_time": "2021-11-19T05:02:56.670548Z"
    },
    "colab": {
     "base_uri": "https://localhost:8080/"
    },
    "id": "Lps_KMpSEKQx",
    "outputId": "9b2eaea9-04c8-4f5f-bd05-c07b69f2e37b"
   },
   "outputs": [
    {
     "data": {
      "text/plain": [
       "['23', '21', '25']"
      ]
     },
     "execution_count": 11,
     "metadata": {},
     "output_type": "execute_result"
    }
   ],
   "source": [
    "# 나이만 뽑기\n",
    "re.findall('\\s([0-9][0-9])\\s', doc) # 스페이스 사이에 있는 숫자2개\n",
    "re.findall('[a-z]\\s([0-9][0-9])', doc) # 소문자+스페이스 뒤에 숫자2개\n",
    "re.findall('[A-Z][a-z]+\\s(..)', doc) # 이름+스페이스 뒤에 어떤문자2개\n",
    "re.findall('[A-Z][a-z]+\\s(.+?)\\s', doc) # 이름+스페이스와 스페이스 사이의 (최대한짧은) 어떤문자열"
   ]
  },
  {
   "cell_type": "code",
   "execution_count": 12,
   "metadata": {
    "ExecuteTime": {
     "end_time": "2021-11-19T05:02:56.865068Z",
     "start_time": "2021-11-19T05:02:56.843173Z"
    },
    "colab": {
     "base_uri": "https://localhost:8080/"
    },
    "id": "pubvmAIcELtj",
    "outputId": "aa56fae2-799f-4539-f48f-4984e844b812"
   },
   "outputs": [
    {
     "data": {
      "text/plain": [
       "['010-1234-5678', '016-345-6789', '011-123-5346']"
      ]
     },
     "execution_count": 12,
     "metadata": {},
     "output_type": "execute_result"
    }
   ],
   "source": [
    "# 전화번호만 뽑기\n",
    "re.findall('[0-9\\-]+', doc) # [] 안에서는 or로 연결되기때문에, 숫자로만 이루어진 문자열도 같이 뽑힘\n",
    "re.findall('[0-9]+\\-[0-9]+\\-[0-9]+', doc)"
   ]
  },
  {
   "cell_type": "code",
   "execution_count": 13,
   "metadata": {
    "ExecuteTime": {
     "end_time": "2021-11-19T05:02:57.036041Z",
     "start_time": "2021-11-19T05:02:57.016086Z"
    },
    "colab": {
     "base_uri": "https://localhost:8080/"
    },
    "id": "LUN5IVmhENx5",
    "outputId": "ea040f02-37c6-4952-b272-f3c24f3f5b63"
   },
   "outputs": [
    {
     "data": {
      "text/plain": [
       "['onds@ardino.com', 'tom@ardino.com', 'jny@ardino.com']"
      ]
     },
     "execution_count": 13,
     "metadata": {},
     "output_type": "execute_result"
    }
   ],
   "source": [
    "# 이메일만 뽑기\n",
    "re.findall('[a-z]+@[a-z]+\\.[a-z]+', doc)"
   ]
  },
  {
   "cell_type": "markdown",
   "metadata": {
    "id": "18f-Nfrb9JBf"
   },
   "source": [
    "### Greedy Q : .+ / Reluctant Q : .+?"
   ]
  },
  {
   "cell_type": "code",
   "execution_count": 14,
   "metadata": {
    "ExecuteTime": {
     "end_time": "2021-11-19T05:02:57.360441Z",
     "start_time": "2021-11-19T05:02:57.348331Z"
    },
    "id": "MRpjVDo-SqZ8"
   },
   "outputs": [],
   "source": [
    "text = 'ardino is not altino'"
   ]
  },
  {
   "cell_type": "code",
   "execution_count": 15,
   "metadata": {
    "ExecuteTime": {
     "end_time": "2021-11-19T05:02:57.549608Z",
     "start_time": "2021-11-19T05:02:57.531667Z"
    },
    "colab": {
     "base_uri": "https://localhost:8080/"
    },
    "id": "gEXnl6Kd8WGa",
    "outputId": "c25d3adb-2b8d-45fe-a74f-ff4fd4d28870"
   },
   "outputs": [
    {
     "data": {
      "text/plain": [
       "['ardino is not altino']"
      ]
     },
     "execution_count": 15,
     "metadata": {},
     "output_type": "execute_result"
    }
   ],
   "source": [
    "re.findall('a.+o', text)"
   ]
  },
  {
   "cell_type": "code",
   "execution_count": 16,
   "metadata": {
    "ExecuteTime": {
     "end_time": "2021-11-19T05:02:57.704590Z",
     "start_time": "2021-11-19T05:02:57.699573Z"
    },
    "colab": {
     "base_uri": "https://localhost:8080/"
    },
    "id": "Hq66mQG09Tco",
    "outputId": "c6cf8188-f6a5-4e5d-8ded-408deea86f8c"
   },
   "outputs": [
    {
     "data": {
      "text/plain": [
       "['ardino', 'altino']"
      ]
     },
     "execution_count": 16,
     "metadata": {},
     "output_type": "execute_result"
    }
   ],
   "source": [
    "re.findall('a.+?o', text)"
   ]
  },
  {
   "cell_type": "markdown",
   "metadata": {
    "id": "gMVEosiZ9a2n"
   },
   "source": [
    "### 연습 : 타이타닉 데이터 이름 컬럼에서 middle name만 추출하기"
   ]
  },
  {
   "cell_type": "code",
   "execution_count": 48,
   "metadata": {
    "ExecuteTime": {
     "end_time": "2021-11-19T05:23:23.185346Z",
     "start_time": "2021-11-19T05:23:22.655374Z"
    },
    "colab": {
     "base_uri": "https://localhost:8080/",
     "height": 200
    },
    "id": "73OgqEM9WMc2",
    "outputId": "556b5454-a299-4dbb-d480-b65c27472405"
   },
   "outputs": [
    {
     "data": {
      "text/html": [
       "<div>\n",
       "<style scoped>\n",
       "    .dataframe tbody tr th:only-of-type {\n",
       "        vertical-align: middle;\n",
       "    }\n",
       "\n",
       "    .dataframe tbody tr th {\n",
       "        vertical-align: top;\n",
       "    }\n",
       "\n",
       "    .dataframe thead th {\n",
       "        text-align: right;\n",
       "    }\n",
       "</style>\n",
       "<table border=\"1\" class=\"dataframe\">\n",
       "  <thead>\n",
       "    <tr style=\"text-align: right;\">\n",
       "      <th></th>\n",
       "      <th>PassengerId</th>\n",
       "      <th>Survived</th>\n",
       "      <th>Pclass</th>\n",
       "      <th>Name</th>\n",
       "      <th>Sex</th>\n",
       "      <th>Age</th>\n",
       "      <th>SibSp</th>\n",
       "      <th>Parch</th>\n",
       "      <th>Ticket</th>\n",
       "      <th>Fare</th>\n",
       "      <th>Cabin</th>\n",
       "      <th>Embarked</th>\n",
       "    </tr>\n",
       "  </thead>\n",
       "  <tbody>\n",
       "    <tr>\n",
       "      <th>0</th>\n",
       "      <td>1</td>\n",
       "      <td>0</td>\n",
       "      <td>3</td>\n",
       "      <td>Braund, Mr. Owen Harris</td>\n",
       "      <td>male</td>\n",
       "      <td>22.0</td>\n",
       "      <td>1</td>\n",
       "      <td>0</td>\n",
       "      <td>A/5 21171</td>\n",
       "      <td>7.2500</td>\n",
       "      <td>NaN</td>\n",
       "      <td>S</td>\n",
       "    </tr>\n",
       "    <tr>\n",
       "      <th>1</th>\n",
       "      <td>2</td>\n",
       "      <td>1</td>\n",
       "      <td>1</td>\n",
       "      <td>Cumings, Mrs. John Bradley (Florence Briggs Th...</td>\n",
       "      <td>female</td>\n",
       "      <td>38.0</td>\n",
       "      <td>1</td>\n",
       "      <td>0</td>\n",
       "      <td>PC 17599</td>\n",
       "      <td>71.2833</td>\n",
       "      <td>C85</td>\n",
       "      <td>C</td>\n",
       "    </tr>\n",
       "    <tr>\n",
       "      <th>2</th>\n",
       "      <td>3</td>\n",
       "      <td>1</td>\n",
       "      <td>3</td>\n",
       "      <td>Heikkinen, Miss. Laina</td>\n",
       "      <td>female</td>\n",
       "      <td>26.0</td>\n",
       "      <td>0</td>\n",
       "      <td>0</td>\n",
       "      <td>STON/O2. 3101282</td>\n",
       "      <td>7.9250</td>\n",
       "      <td>NaN</td>\n",
       "      <td>S</td>\n",
       "    </tr>\n",
       "    <tr>\n",
       "      <th>3</th>\n",
       "      <td>4</td>\n",
       "      <td>1</td>\n",
       "      <td>1</td>\n",
       "      <td>Futrelle, Mrs. Jacques Heath (Lily May Peel)</td>\n",
       "      <td>female</td>\n",
       "      <td>35.0</td>\n",
       "      <td>1</td>\n",
       "      <td>0</td>\n",
       "      <td>113803</td>\n",
       "      <td>53.1000</td>\n",
       "      <td>C123</td>\n",
       "      <td>S</td>\n",
       "    </tr>\n",
       "    <tr>\n",
       "      <th>4</th>\n",
       "      <td>5</td>\n",
       "      <td>0</td>\n",
       "      <td>3</td>\n",
       "      <td>Allen, Mr. William Henry</td>\n",
       "      <td>male</td>\n",
       "      <td>35.0</td>\n",
       "      <td>0</td>\n",
       "      <td>0</td>\n",
       "      <td>373450</td>\n",
       "      <td>8.0500</td>\n",
       "      <td>NaN</td>\n",
       "      <td>S</td>\n",
       "    </tr>\n",
       "  </tbody>\n",
       "</table>\n",
       "</div>"
      ],
      "text/plain": [
       "   PassengerId  Survived  Pclass  \\\n",
       "0            1         0       3   \n",
       "1            2         1       1   \n",
       "2            3         1       3   \n",
       "3            4         1       1   \n",
       "4            5         0       3   \n",
       "\n",
       "                                                Name     Sex   Age  SibSp  \\\n",
       "0                            Braund, Mr. Owen Harris    male  22.0      1   \n",
       "1  Cumings, Mrs. John Bradley (Florence Briggs Th...  female  38.0      1   \n",
       "2                             Heikkinen, Miss. Laina  female  26.0      0   \n",
       "3       Futrelle, Mrs. Jacques Heath (Lily May Peel)  female  35.0      1   \n",
       "4                           Allen, Mr. William Henry    male  35.0      0   \n",
       "\n",
       "   Parch            Ticket     Fare Cabin Embarked  \n",
       "0      0         A/5 21171   7.2500   NaN        S  \n",
       "1      0          PC 17599  71.2833   C85        C  \n",
       "2      0  STON/O2. 3101282   7.9250   NaN        S  \n",
       "3      0            113803  53.1000  C123        S  \n",
       "4      0            373450   8.0500   NaN        S  "
      ]
     },
     "execution_count": 48,
     "metadata": {},
     "output_type": "execute_result"
    }
   ],
   "source": [
    "import pandas as pd\n",
    "\n",
    "df_titanic = pd.read_csv(\"https://raw.githubusercontent.com/datascienceschool/docker_rpython/master/data/titanic.csv\")\n",
    "df_titanic.head()"
   ]
  },
  {
   "cell_type": "code",
   "execution_count": 49,
   "metadata": {
    "ExecuteTime": {
     "end_time": "2021-11-19T05:23:31.565158Z",
     "start_time": "2021-11-19T05:23:31.555549Z"
    },
    "colab": {
     "base_uri": "https://localhost:8080/"
    },
    "id": "gAtdNx0f9sW4",
    "outputId": "80e1dd2d-cbb0-4bd5-e416-317f985e0f6c"
   },
   "outputs": [
    {
     "data": {
      "text/plain": [
       "Name    Braund, Mr. Owen Harris\n",
       "Name: 0, dtype: object"
      ]
     },
     "execution_count": 49,
     "metadata": {},
     "output_type": "execute_result"
    }
   ],
   "source": [
    "name1 = df_titanic[['Name']].iloc[0] # first person name\n",
    "name1"
   ]
  },
  {
   "cell_type": "code",
   "execution_count": 50,
   "metadata": {
    "ExecuteTime": {
     "end_time": "2021-11-19T05:24:33.420696Z",
     "start_time": "2021-11-19T05:24:33.410729Z"
    },
    "colab": {
     "base_uri": "https://localhost:8080/"
    },
    "id": "TjIwhsJ4bwgw",
    "outputId": "cfe95fe3-d9ed-47b6-e611-1c0eb8b2832f"
   },
   "outputs": [
    {
     "data": {
      "text/plain": [
       "['Mr']"
      ]
     },
     "execution_count": 50,
     "metadata": {},
     "output_type": "execute_result"
    }
   ],
   "source": [
    "re.findall('\\s([A-Za-z]+)\\.', str(name1))"
   ]
  },
  {
   "cell_type": "code",
   "execution_count": 51,
   "metadata": {
    "ExecuteTime": {
     "end_time": "2021-11-19T05:24:35.424620Z",
     "start_time": "2021-11-19T05:24:35.399592Z"
    },
    "colab": {
     "base_uri": "https://localhost:8080/",
     "height": 411
    },
    "id": "rIw_FPHbftDn",
    "outputId": "1a0822a2-1584-4f20-bf62-843cf6dbedaa"
   },
   "outputs": [
    {
     "data": {
      "text/html": [
       "<div>\n",
       "<style scoped>\n",
       "    .dataframe tbody tr th:only-of-type {\n",
       "        vertical-align: middle;\n",
       "    }\n",
       "\n",
       "    .dataframe tbody tr th {\n",
       "        vertical-align: top;\n",
       "    }\n",
       "\n",
       "    .dataframe thead th {\n",
       "        text-align: right;\n",
       "    }\n",
       "</style>\n",
       "<table border=\"1\" class=\"dataframe\">\n",
       "  <thead>\n",
       "    <tr style=\"text-align: right;\">\n",
       "      <th></th>\n",
       "      <th>0</th>\n",
       "    </tr>\n",
       "  </thead>\n",
       "  <tbody>\n",
       "    <tr>\n",
       "      <th>0</th>\n",
       "      <td>Mr</td>\n",
       "    </tr>\n",
       "    <tr>\n",
       "      <th>1</th>\n",
       "      <td>Mrs</td>\n",
       "    </tr>\n",
       "    <tr>\n",
       "      <th>2</th>\n",
       "      <td>Miss</td>\n",
       "    </tr>\n",
       "    <tr>\n",
       "      <th>3</th>\n",
       "      <td>Mrs</td>\n",
       "    </tr>\n",
       "    <tr>\n",
       "      <th>4</th>\n",
       "      <td>Mr</td>\n",
       "    </tr>\n",
       "    <tr>\n",
       "      <th>...</th>\n",
       "      <td>...</td>\n",
       "    </tr>\n",
       "    <tr>\n",
       "      <th>886</th>\n",
       "      <td>Rev</td>\n",
       "    </tr>\n",
       "    <tr>\n",
       "      <th>887</th>\n",
       "      <td>Miss</td>\n",
       "    </tr>\n",
       "    <tr>\n",
       "      <th>888</th>\n",
       "      <td>Miss</td>\n",
       "    </tr>\n",
       "    <tr>\n",
       "      <th>889</th>\n",
       "      <td>Mr</td>\n",
       "    </tr>\n",
       "    <tr>\n",
       "      <th>890</th>\n",
       "      <td>Mr</td>\n",
       "    </tr>\n",
       "  </tbody>\n",
       "</table>\n",
       "<p>891 rows × 1 columns</p>\n",
       "</div>"
      ],
      "text/plain": [
       "        0\n",
       "0      Mr\n",
       "1     Mrs\n",
       "2    Miss\n",
       "3     Mrs\n",
       "4      Mr\n",
       "..    ...\n",
       "886   Rev\n",
       "887  Miss\n",
       "888  Miss\n",
       "889    Mr\n",
       "890    Mr\n",
       "\n",
       "[891 rows x 1 columns]"
      ]
     },
     "execution_count": 51,
     "metadata": {},
     "output_type": "execute_result"
    }
   ],
   "source": [
    "# 한 컬럼 전체에 모두 동일한 문자열 관련 기능을 적용하는 방법\n",
    "df_titanic['Name'].str.extract('\\s([A-Za-z]+)\\.')"
   ]
  },
  {
   "cell_type": "code",
   "execution_count": null,
   "metadata": {},
   "outputs": [],
   "source": []
  },
  {
   "cell_type": "code",
   "execution_count": null,
   "metadata": {},
   "outputs": [],
   "source": []
  }
 ],
 "metadata": {
  "colab": {
   "collapsed_sections": [],
   "name": "1_정규표현식기초.ipynb",
   "provenance": []
  },
  "hide_input": false,
  "kernelspec": {
   "display_name": "Python 3 (ipykernel)",
   "language": "python",
   "name": "python3"
  },
  "language_info": {
   "codemirror_mode": {
    "name": "ipython",
    "version": 3
   },
   "file_extension": ".py",
   "mimetype": "text/x-python",
   "name": "python",
   "nbconvert_exporter": "python",
   "pygments_lexer": "ipython3",
   "version": "3.9.7"
  },
  "toc": {
   "base_numbering": 1,
   "nav_menu": {},
   "number_sections": true,
   "sideBar": true,
   "skip_h1_title": false,
   "title_cell": "Table of Contents",
   "title_sidebar": "Contents",
   "toc_cell": false,
   "toc_position": {},
   "toc_section_display": true,
   "toc_window_display": false
  },
  "varInspector": {
   "cols": {
    "lenName": 16,
    "lenType": 16,
    "lenVar": 40
   },
   "kernels_config": {
    "python": {
     "delete_cmd_postfix": "",
     "delete_cmd_prefix": "del ",
     "library": "var_list.py",
     "varRefreshCmd": "print(var_dic_list())"
    },
    "r": {
     "delete_cmd_postfix": ") ",
     "delete_cmd_prefix": "rm(",
     "library": "var_list.r",
     "varRefreshCmd": "cat(var_dic_list()) "
    }
   },
   "types_to_exclude": [
    "module",
    "function",
    "builtin_function_or_method",
    "instance",
    "_Feature"
   ],
   "window_display": false
  }
 },
 "nbformat": 4,
 "nbformat_minor": 1
}
